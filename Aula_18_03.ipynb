{
  "nbformat": 4,
  "nbformat_minor": 0,
  "metadata": {
    "colab": {
      "provenance": [],
      "authorship_tag": "ABX9TyMZHfY1PLKU8xvtO+P3vfiA",
      "include_colab_link": true
    },
    "kernelspec": {
      "name": "python3",
      "display_name": "Python 3"
    },
    "language_info": {
      "name": "python"
    }
  },
  "cells": [
    {
      "cell_type": "markdown",
      "metadata": {
        "id": "view-in-github",
        "colab_type": "text"
      },
      "source": [
        "<a href=\"https://colab.research.google.com/github/raissabispo/DataScience/blob/main/Aula_18_03.ipynb\" target=\"_parent\"><img src=\"https://colab.research.google.com/assets/colab-badge.svg\" alt=\"Open In Colab\"/></a>"
      ]
    },
    {
      "cell_type": "code",
      "execution_count": null,
      "metadata": {
        "id": "YS5UVBSqHGSG"
      },
      "outputs": [],
      "source": [
        "import numpy as np\n",
        "import pandas as pd\n",
        "from scipy import stats\n",
        "#Testes mais simples : stats"
      ]
    },
    {
      "cell_type": "code",
      "source": [
        "#Exemplo de teste t para amostras independentes\n",
        "\n",
        "amostra1 = np.array([23, 21, 22, 20, 24])\n",
        "amostra2 = np.array([19, 18, 20, 17, 21])\n",
        "\n",
        "t_stat, p_value = stats.ttest_ind(amostra1, amostra2)\n",
        "print(f\"teste t-statistic: {t_stat}, Valor-p: {p_value}\")\n",
        "\n",
        "#Teste de normalidade(Shapiro-wilk)\n",
        "stat, p = stats.shapiro(amostra1)\n",
        "print(f\"teste de normalidade: {stat}, Valor-p: {p}\")"
      ],
      "metadata": {
        "colab": {
          "base_uri": "https://localhost:8080/"
        },
        "id": "garOWfx_HkvJ",
        "outputId": "375992bb-ca3c-4493-9f15-031be3454085"
      },
      "execution_count": null,
      "outputs": [
        {
          "output_type": "stream",
          "name": "stdout",
          "text": [
            "teste t-statistic: 3.0, Valor-p: 0.017071681233782634\n",
            "teste de normalidade: 0.986762155211559, Valor-p: 0.9671739349728582\n"
          ]
        }
      ]
    }
  ]
}