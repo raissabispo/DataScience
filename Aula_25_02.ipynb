{
  "nbformat": 4,
  "nbformat_minor": 0,
  "metadata": {
    "colab": {
      "provenance": [],
      "authorship_tag": "ABX9TyPbiNhzBBozCqh+X2XsOli7",
      "include_colab_link": true
    },
    "kernelspec": {
      "name": "python3",
      "display_name": "Python 3"
    },
    "language_info": {
      "name": "python"
    }
  },
  "cells": [
    {
      "cell_type": "markdown",
      "metadata": {
        "id": "view-in-github",
        "colab_type": "text"
      },
      "source": [
        "<a href=\"https://colab.research.google.com/github/raissabispo/DataScience/blob/main/Aula_25_02.ipynb\" target=\"_parent\"><img src=\"https://colab.research.google.com/assets/colab-badge.svg\" alt=\"Open In Colab\"/></a>"
      ]
    },
    {
      "cell_type": "code",
      "source": [
        "import pandas as pd\n",
        "import numpy as np\n",
        "from sklearn.preprocessing import MinMaxScaler,StandardScaler"
      ],
      "metadata": {
        "id": "DHbSV8wxZj5V"
      },
      "execution_count": 1,
      "outputs": []
    },
    {
      "cell_type": "code",
      "execution_count": 9,
      "metadata": {
        "colab": {
          "base_uri": "https://localhost:8080/"
        },
        "id": "r216rpAlTf2X",
        "outputId": "630190a1-0fb0-4ed6-8bce-ea017a9d181a"
      },
      "outputs": [
        {
          "output_type": "stream",
          "name": "stdout",
          "text": [
            "DataFrame original com outliers e valores ausentes: \n",
            "         A      B  C\n",
            "0    10.0    1.0  X\n",
            "1    20.0    NaN  Y\n",
            "2     NaN    3.0  Z\n",
            "3    40.0    4.0  X\n",
            "4  1000.0  500.0  Y\n",
            "\n",
            "Média enviesada pelos outliers:\n",
            " A    267.5\n",
            "B    127.0\n",
            "dtype: float64\n",
            "\n",
            "Mediana (menos influenciada po outliers \n",
            " ) A    30.0\n",
            "B     3.5\n",
            "dtype: float64\n",
            "\\mDataFrame com valores ausentes preenchidos pela Média (influenciado por outliers):\n",
            "           A         B  C\n",
            "0  0.000000  0.000000  X\n",
            "1  0.010101  0.252505  Y\n",
            "2  0.260101  0.004008  Z\n",
            "3  0.030303  0.006012  X\n",
            "4  1.000000  1.000000  Y\n",
            "\n",
            "DataFrame com valores ausentes preenchidos pela Mediana (mais robusto):\n",
            "           A         B  C\n",
            "0  0.000000  0.000000  X\n",
            "1  0.010101  0.005010  Y\n",
            "2  0.020202  0.004008  Z\n",
            "3  0.030303  0.006012  X\n",
            "4  1.000000  1.000000  Y\n"
          ]
        }
      ],
      "source": [
        "data = {\n",
        "    'A': [10,20,np.nan, 40, 1000],\n",
        "    'B': [1,np.nan, 3, 4, 500],\n",
        "    'C': ['X', 'Y','Z', 'X', 'Y']\n",
        "}\n",
        "\n",
        "df = pd.DataFrame(data)\n",
        "\n",
        "#Calculo da média e mediana\n",
        "mean_values = df.mean(numeric_only= True)\n",
        "median_values = df.median(numeric_only= True)\n",
        "\n",
        "\n",
        "#Tratando valores ausentes com média (enviesada pelos outliers)\n",
        "df_filled_mean = df.fillna(mean_values)\n",
        "\n",
        "#tratando valores ausentes com mediana mais robusta\n",
        "df_filled_median = df.fillna(median_values)\n",
        "\n",
        "scaler = MinMaxScaler()\n",
        "df_filled_mean[['A', 'B']] = scaler.fit_transform(df_filled_mean[['A', 'B']])\n",
        "df_filled_median[['A', 'B']] = scaler.fit_transform(df_filled_median[['A', 'B']])\n",
        "\n",
        "#Padronização(z-score)\n",
        "#scaler = StandardScaler()\n",
        "#df_filled_mean[['A', 'B']] = scaler.fit_transform(df_filled_mean[['A', 'B']])\n",
        "#df_filled_median[['A', 'B']] = scaler.fit_transform(df_filled_median[['A', 'B']])\n",
        "\n",
        "print(\"DataFrame original com outliers e valores ausentes: \\n\", df)\n",
        "print(\"\\nMédia enviesada pelos outliers:\\n\", mean_values)\n",
        "print(\"\\nMediana (menos influenciada po outliers \\n )\", median_values)\n",
        "print(\"\\mDataFrame com valores ausentes preenchidos pela Média (influenciado por outliers):\\n\", df_filled_mean)\n",
        "print(\"\\nDataFrame com valores ausentes preenchidos pela Mediana (mais robusto):\\n\", df_filled_median)\n",
        "\n"
      ]
    }
  ]
}